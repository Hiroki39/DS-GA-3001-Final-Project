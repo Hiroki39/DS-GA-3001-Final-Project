{
 "cells": [
  {
   "cell_type": "code",
   "execution_count": 10,
   "metadata": {},
   "outputs": [],
   "source": [
    "import pandas as pd\n",
    "import numpy as np\n",
    "from catboost import CatBoostClassifier"
   ]
  },
  {
   "cell_type": "code",
   "execution_count": 11,
   "metadata": {},
   "outputs": [],
   "source": [
    "# !!! fill in this variable\n",
    "TEST_FILENAME = ''\n",
    "DATA_PATH = '../data/'\n",
    "MODEL_PATH = '../model/'\n",
    "\n",
    "NUMERIC_COLS = ['asst_intang_fixed', 'asst_tang_fixed', 'asst_fixed_fin',\n",
    "                'asst_current', 'AR', 'cash_and_equiv', 'asst_tot', 'eqty_tot',\n",
    "                'liab_lt', 'liab_lt_emp', 'debt_bank_st', 'debt_bank_lt', 'debt_fin_st',\n",
    "                'debt_fin_lt', 'AP_st', 'AP_lt', 'debt_st', 'debt_lt', 'rev_operating',\n",
    "                'COGS', 'prof_operations', 'goodwill', 'inc_financing', 'exp_financing',\n",
    "                'prof_financing', 'inc_extraord', 'taxes', 'profit', 'ebitda', 'roa',\n",
    "                'roe', 'wc_net', 'margin_fin', 'cf_operations', 'Adj Close', 'vol_roa',\n",
    "                'vol_roe']\n",
    "ROA_ROE_FILE = \"roa_roe.csv\"\n",
    "FLPSX_FILE = \"FLPSX_final.csv\"\n",
    "INFLATION_FILE = \"italy-inflation-interpolated.csv\"\n"
   ]
  },
  {
   "cell_type": "code",
   "execution_count": 12,
   "metadata": {
    "executionInfo": {
     "elapsed": 445,
     "status": "ok",
     "timestamp": 1669089700090,
     "user": {
      "displayName": "Hongyi Zheng",
      "userId": "14609551085483506093"
     },
     "user_tz": 300
    },
    "id": "x995sqT-8c9o"
   },
   "outputs": [],
   "source": [
    "def harness(df):\n",
    "\n",
    "    def add_ratios(df):\n",
    "\n",
    "        # utilize financial ratios from \n",
    "        df['rota'] = df['ebitda'] / df['asst_tot']\n",
    "        df['CFOOE'] = df['cf_operations'] / df['prof_operations']\n",
    "        df['CFO_to_debt'] = df['cf_operations'] / (df['asst_tot'] - df['eqty_tot'])\n",
    "        df['current_ratio'] = df['asst_current'] / df['liab_current']\n",
    "        df['leverage_ratio'] = df['asst_tot'] / df['eqty_tot']\n",
    "        df['equity_ratio'] = df['eqty_tot'] / df['asst_tot']\n",
    "        df['ocfr'] = df['cf_operations'] / df['liab_current']\n",
    "        df['asset_coverage_ratio'] = ((df['asst_tot'] - df['asst_intang_fixed']) - (df['liab_current']-df['debt_st']))/df['debt_tot']\n",
    "        df['debt_ratio'] = df['liab_tot'] / df['asst_tot']\n",
    "        df['debt_equity_ratio']=df['liab_tot'] / df['eqty_tot']\n",
    "        df['cash_ratio'] = df['cash_and_equiv']/df['liab_current']\n",
    "        df['CHTA'] = df['cash_and_equiv']/df['asst_tot']\n",
    "        df['WCAPTA'] = df['wc_net'] / df['asst_tot']\n",
    "        df['CATA'] = df['asst_current'] / df['asst_tot']\n",
    "\n",
    "        return df\n",
    "    \n",
    "    def inflation_change(df):\n",
    "        # inflation rate compared to 2007\n",
    "        inflation_df = pd.read_csv(DATA_PATH + INFLATION_FILE, index_col=0)\n",
    "        inflation_df.date = pd.to_datetime(inflation_df.date)\n",
    "        \n",
    "        df = pd.merge(df, inflation_df, left_on=\"stmt_date\", right_on='date', how='left')\n",
    "        inflations = df[\"Acc Change\"]\n",
    "        df = df.drop(columns=[\"Acc Change\"])\n",
    "\n",
    "        # inflation adjustment\n",
    "        df[df.columns[df.columns.isin(NUMERIC_COLS)]] = df[df.columns[df.columns.isin(NUMERIC_COLS)]].divide(inflations, axis=0)\n",
    "\n",
    "        return df\n",
    "\n",
    "    def data_processing(df):\n",
    "      \n",
    "        flpsx_df = pd.read_csv(DATA_PATH + FLPSX_FILE, index_col=0)\n",
    "        hist_roa_roe_df = pd.read_csv(DATA_PATH + ROA_ROE_FILE, index_col=0)\n",
    "      \n",
    "        # drop columns with more than 50% missing values\n",
    "        df = df.drop(columns=[\"eqty_corp_family_tot\", \"days_rec\"])\n",
    "      \n",
    "        # data type conversion\n",
    "        df[\"stmt_date\"] = pd.to_datetime(df[\"stmt_date\"])\n",
    "        hist_roa_roe_df[\"stmt_date\"] = pd.to_datetime(hist_roa_roe_df[\"stmt_date\"])\n",
    "        df[[\"HQ_city\", \"ateco_sector\"]] = df[[\"HQ_city\",\n",
    "                                            \"ateco_sector\"]].fillna(0).astype(int).astype(\"category\")\n",
    "        df[\"legal_struct\"] = df[\"legal_struct\"].astype(\"category\")\n",
    "      \n",
    "        ### INFLATION ADJUSTMENT\n",
    "        df = inflation_change(df)\n",
    "\n",
    "        # add FLPSX index\n",
    "        flpsx_df.index = pd.to_datetime(flpsx_df.index)\n",
    "        df = pd.merge(df, flpsx_df, \n",
    "                    left_on='stmt_date', \n",
    "                    right_index=True)\n",
    "\n",
    "        ### ROLLING VOLATILITY\n",
    "        total_roa_roe_df = pd.concat([hist_roa_roe_df, df[[\"id\", \"stmt_date\", \"roa\", \"roe\"]]])\n",
    "        total_roa_roe_df = total_roa_roe_df.reset_index(drop=True)\n",
    "      \n",
    "        # add roa/roe volatilities\n",
    "        total_roa_roe_df['vol_roa'] = total_roa_roe_df\\\n",
    "          .sort_values('stmt_date')\\\n",
    "          .groupby('id')['roa']\\\n",
    "          .expanding().std()\\\n",
    "          .reset_index(level=0, drop=True)\n",
    "\n",
    "        total_roa_roe_df['vol_roe'] = total_roa_roe_df\\\n",
    "          .sort_values('stmt_date')\\\n",
    "          .groupby('id')['roe']\\\n",
    "          .expanding().std()\\\n",
    "          .reset_index(level=0, drop=True)\n",
    "\n",
    "        df = pd.merge(df, total_roa_roe_df[[\"id\", \"stmt_date\", \"vol_roa\", \"vol_roe\"]],\n",
    "                  left_on=[\"id\", \"stmt_date\"], \n",
    "                  right_on=[\"id\", \"stmt_date\"])\n",
    "      \n",
    "        ### ADD FINANCIAL RATIOS\n",
    "        # calculate liability total and current \n",
    "        df['liab_current'] = df['asst_current'] -df['wc_net']\n",
    "        df['liab_tot'] = df['asst_tot'] - df['eqty_tot']\n",
    "        df['debt_tot'] = df['debt_st']+ df['debt_lt']\n",
    "\n",
    "      \n",
    "        # add ratios, remove redundancy\n",
    "        df = add_ratios(df)\n",
    "        df = df.drop(columns=['liab_tot', 'liab_current', 'debt_tot'])\n",
    "\n",
    "        return df\n",
    "\n",
    "    df = data_processing(df)\n",
    "\n",
    "    # load model\n",
    "    cb = CatBoostClassifier()\n",
    "    cb.load_model(MODEL_PATH + \"catboost\")\n",
    "\n",
    "    X = df[df.columns[~df.columns.isin([\"id\", \"stmt_date\", \"def_date\", \"fs_year\", \"is_def\"])]]\n",
    "    y_pred = cb.predict_proba(X)[:, 1]\n",
    "    return y_pred.reshape(-1, 1)\n"
   ]
  },
  {
   "cell_type": "code",
   "execution_count": 13,
   "metadata": {},
   "outputs": [],
   "source": [
    "df = pd.read_csv(DATA_PATH + TEST_FILENAME, index_col=0)"
   ]
  },
  {
   "cell_type": "code",
   "execution_count": 14,
   "metadata": {
    "scrolled": true
   },
   "outputs": [
    {
     "name": "stderr",
     "output_type": "stream",
     "text": [
      "/gpfs/data/oermannlab/users/hz2212/.conda/envs/efficient-transformers/lib/python3.9/site-packages/catboost/core.py:1411: FutureWarning: iteritems is deprecated and will be removed in a future version. Use .items instead.\n",
      "  self._init_pool(data, label, cat_features, text_features, embedding_features, embedding_features_data, pairs, weight,\n"
     ]
    },
    {
     "data": {
      "text/plain": [
       "array([[0.0046497 ],\n",
       "       [0.00050097],\n",
       "       [0.00042422],\n",
       "       ...,\n",
       "       [0.00245231],\n",
       "       [0.00639554],\n",
       "       [0.0032267 ]])"
      ]
     },
     "execution_count": 14,
     "metadata": {},
     "output_type": "execute_result"
    }
   ],
   "source": [
    "harness(df)"
   ]
  },
  {
   "cell_type": "code",
   "execution_count": null,
   "metadata": {},
   "outputs": [],
   "source": []
  }
 ],
 "metadata": {
  "colab": {
   "provenance": []
  },
  "kernelspec": {
   "display_name": "Python 3 (ipykernel)",
   "language": "python",
   "name": "python3"
  },
  "language_info": {
   "codemirror_mode": {
    "name": "ipython",
    "version": 3
   },
   "file_extension": ".py",
   "mimetype": "text/x-python",
   "name": "python",
   "nbconvert_exporter": "python",
   "pygments_lexer": "ipython3",
   "version": "3.9.15"
  },
  "vscode": {
   "interpreter": {
    "hash": "aee8b7b246df8f9039afb4144a1f6fd8d2ca17a180786b69acc140d282b71a49"
   }
  }
 },
 "nbformat": 4,
 "nbformat_minor": 1
}
